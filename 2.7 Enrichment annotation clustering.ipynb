{
 "cells": [
  {
   "cell_type": "code",
   "execution_count": 1,
   "id": "87d9a826-e1b4-4517-945e-c7fa2a0a776c",
   "metadata": {},
   "outputs": [],
   "source": [
    "import pandas as pd\n",
    "import numpy as np\n",
    "from tqdm import tqdm\n",
    "from scipy.cluster.hierarchy import linkage, fcluster, dendrogram\n",
    "from scipy.spatial.distance import squareform\n",
    "import matplotlib.pyplot as plt\n",
    "import random"
   ]
  },
  {
   "cell_type": "code",
   "execution_count": 2,
   "id": "9e2cb685-9d4a-4eaf-95f2-484bb9089f51",
   "metadata": {},
   "outputs": [],
   "source": [
    "pd.set_option('display.max_columns', None)"
   ]
  },
  {
   "cell_type": "code",
   "execution_count": 3,
   "id": "b858eee7-7cdd-4631-9cfd-da6e4d5b1b01",
   "metadata": {},
   "outputs": [],
   "source": [
    "all_terms = pd.read_excel(\"All pathway annotations.xlsx\")"
   ]
  },
  {
   "cell_type": "code",
   "execution_count": 7,
   "id": "7aa37319-e3d3-4586-9bbb-b7c991459de3",
   "metadata": {},
   "outputs": [],
   "source": [
    "term_gene = all_terms.groupby(['term_id', 'term_name', 'source'])['gene'].apply(set).reset_index()"
   ]
  },
  {
   "cell_type": "code",
   "execution_count": 9,
   "id": "4c289b39-6d63-453d-be62-d35b4830e2fd",
   "metadata": {},
   "outputs": [],
   "source": [
    "# Master gene list\n",
    "all_genes = set()\n",
    "for geneset in term_gene['gene']:\n",
    "    all_genes.update(geneset)\n",
    "all_genes = sorted(list(all_genes))"
   ]
  },
  {
   "cell_type": "code",
   "execution_count": 11,
   "id": "88bf60e3-e041-40c6-bda8-0b7b2e93a8c5",
   "metadata": {},
   "outputs": [],
   "source": [
    "# Map genes to terms\n",
    "gene_idx = {gene: idx for idx, gene in enumerate(all_genes)}\n",
    "term_idx = {term: idx for idx, term in enumerate(term_gene['term_id'])}"
   ]
  },
  {
   "cell_type": "code",
   "execution_count": 13,
   "id": "9c5b7030-2d4d-4780-a70a-bdc775b7aeee",
   "metadata": {},
   "outputs": [
    {
     "name": "stdout",
     "output_type": "stream",
     "text": [
      "Gene-term matrix size: (20336, 23915)\n"
     ]
    }
   ],
   "source": [
    "# Sparse binary matrix\n",
    "mat = np.zeros((len(all_genes), len(term_gene)), dtype=np.int8)\n",
    "\n",
    "for j, genes in enumerate(term_gene['gene']):\n",
    "    indices = [gene_idx[g] for g in genes if g in gene_idx]\n",
    "    mat[indices, j] = 1\n",
    "\n",
    "print(f\"Gene-term matrix size: {mat.shape}\")"
   ]
  },
  {
   "cell_type": "code",
   "execution_count": 15,
   "id": "6a5f7ee8-f8f3-4853-a610-89a3b5ed47a1",
   "metadata": {},
   "outputs": [
    {
     "name": "stderr",
     "output_type": "stream",
     "text": [
      "  0%|                                                                     | 5562/285975570 [00:05<81:49:17, 970.85it/s]"
     ]
    },
    {
     "ename": "KeyboardInterrupt",
     "evalue": "",
     "output_type": "error",
     "traceback": [
      "\u001b[1;31m---------------------------------------------------------------------------\u001b[0m",
      "\u001b[1;31mKeyboardInterrupt\u001b[0m                         Traceback (most recent call last)",
      "Cell \u001b[1;32mIn[15], line 12\u001b[0m\n\u001b[0;32m     10\u001b[0m \u001b[38;5;28;01mfor\u001b[39;00m j \u001b[38;5;129;01min\u001b[39;00m \u001b[38;5;28mrange\u001b[39m(i, n_terms):\n\u001b[0;32m     11\u001b[0m     b \u001b[38;5;241m=\u001b[39m mat[:, j]\n\u001b[1;32m---> 12\u001b[0m     p0 \u001b[38;5;241m=\u001b[39m np\u001b[38;5;241m.\u001b[39msum(a \u001b[38;5;241m==\u001b[39m b) \u001b[38;5;241m/\u001b[39m \u001b[38;5;28mlen\u001b[39m(a)\n\u001b[0;32m     13\u001b[0m     pe \u001b[38;5;241m=\u001b[39m (np\u001b[38;5;241m.\u001b[39mmean(a) \u001b[38;5;241m*\u001b[39m np\u001b[38;5;241m.\u001b[39mmean(b)) \u001b[38;5;241m+\u001b[39m ((\u001b[38;5;241m1\u001b[39m \u001b[38;5;241m-\u001b[39m np\u001b[38;5;241m.\u001b[39mmean(a)) \u001b[38;5;241m*\u001b[39m (\u001b[38;5;241m1\u001b[39m \u001b[38;5;241m-\u001b[39m np\u001b[38;5;241m.\u001b[39mmean(b)))\n\u001b[0;32m     14\u001b[0m     kappa \u001b[38;5;241m=\u001b[39m (p0 \u001b[38;5;241m-\u001b[39m pe) \u001b[38;5;241m/\u001b[39m (\u001b[38;5;241m1\u001b[39m \u001b[38;5;241m-\u001b[39m pe) \u001b[38;5;28;01mif\u001b[39;00m (\u001b[38;5;241m1\u001b[39m \u001b[38;5;241m-\u001b[39m pe) \u001b[38;5;241m!=\u001b[39m \u001b[38;5;241m0\u001b[39m \u001b[38;5;28;01melse\u001b[39;00m \u001b[38;5;241m0\u001b[39m\n",
      "File \u001b[1;32m~\\anaconda3\\Lib\\site-packages\\numpy\\core\\fromnumeric.py:2172\u001b[0m, in \u001b[0;36m_sum_dispatcher\u001b[1;34m(a, axis, dtype, out, keepdims, initial, where)\u001b[0m\n\u001b[0;32m   2102\u001b[0m \u001b[38;5;250m    \u001b[39m\u001b[38;5;124;03m\"\"\"\u001b[39;00m\n\u001b[0;32m   2103\u001b[0m \u001b[38;5;124;03m    Clip (limit) the values in an array.\u001b[39;00m\n\u001b[0;32m   2104\u001b[0m \n\u001b[1;32m   (...)\u001b[0m\n\u001b[0;32m   2167\u001b[0m \n\u001b[0;32m   2168\u001b[0m \u001b[38;5;124;03m    \"\"\"\u001b[39;00m\n\u001b[0;32m   2169\u001b[0m     \u001b[38;5;28;01mreturn\u001b[39;00m _wrapfunc(a, \u001b[38;5;124m'\u001b[39m\u001b[38;5;124mclip\u001b[39m\u001b[38;5;124m'\u001b[39m, a_min, a_max, out\u001b[38;5;241m=\u001b[39mout, \u001b[38;5;241m*\u001b[39m\u001b[38;5;241m*\u001b[39mkwargs)\n\u001b[1;32m-> 2172\u001b[0m \u001b[38;5;28;01mdef\u001b[39;00m \u001b[38;5;21m_sum_dispatcher\u001b[39m(a, axis\u001b[38;5;241m=\u001b[39m\u001b[38;5;28;01mNone\u001b[39;00m, dtype\u001b[38;5;241m=\u001b[39m\u001b[38;5;28;01mNone\u001b[39;00m, out\u001b[38;5;241m=\u001b[39m\u001b[38;5;28;01mNone\u001b[39;00m, keepdims\u001b[38;5;241m=\u001b[39m\u001b[38;5;28;01mNone\u001b[39;00m,\n\u001b[0;32m   2173\u001b[0m                     initial\u001b[38;5;241m=\u001b[39m\u001b[38;5;28;01mNone\u001b[39;00m, where\u001b[38;5;241m=\u001b[39m\u001b[38;5;28;01mNone\u001b[39;00m):\n\u001b[0;32m   2174\u001b[0m     \u001b[38;5;28;01mreturn\u001b[39;00m (a, out)\n\u001b[0;32m   2177\u001b[0m \u001b[38;5;129m@array_function_dispatch\u001b[39m(_sum_dispatcher)\n\u001b[0;32m   2178\u001b[0m \u001b[38;5;28;01mdef\u001b[39;00m \u001b[38;5;21msum\u001b[39m(a, axis\u001b[38;5;241m=\u001b[39m\u001b[38;5;28;01mNone\u001b[39;00m, dtype\u001b[38;5;241m=\u001b[39m\u001b[38;5;28;01mNone\u001b[39;00m, out\u001b[38;5;241m=\u001b[39m\u001b[38;5;28;01mNone\u001b[39;00m, keepdims\u001b[38;5;241m=\u001b[39mnp\u001b[38;5;241m.\u001b[39m_NoValue,\n\u001b[0;32m   2179\u001b[0m         initial\u001b[38;5;241m=\u001b[39mnp\u001b[38;5;241m.\u001b[39m_NoValue, where\u001b[38;5;241m=\u001b[39mnp\u001b[38;5;241m.\u001b[39m_NoValue):\n",
      "\u001b[1;31mKeyboardInterrupt\u001b[0m: "
     ]
    }
   ],
   "source": [
    "# Kappa similarity matrix\n",
    "\n",
    "n_terms = mat.shape[1]\n",
    "kappa_matrix = np.zeros((n_terms, n_terms))\n",
    "\n",
    "pbar = tqdm(total=(n_terms * (n_terms + 1)) // 2)\n",
    "\n",
    "for i in range(n_terms):\n",
    "    a = mat[:, i]\n",
    "    for j in range(i, n_terms):\n",
    "        b = mat[:, j]\n",
    "        p0 = np.sum(a == b) / len(a)\n",
    "        pe = (np.mean(a) * np.mean(b)) + ((1 - np.mean(a)) * (1 - np.mean(b)))\n",
    "        kappa = (p0 - pe) / (1 - pe) if (1 - pe) != 0 else 0\n",
    "        kappa_matrix[i, j] = kappa_matrix[j, i] = kappa\n",
    "        pbar.update(1)\n",
    "pbar.close()"
   ]
  },
  {
   "cell_type": "code",
   "execution_count": null,
   "id": "00055671-c9a8-47fe-8202-16a97ce7ab25",
   "metadata": {},
   "outputs": [],
   "source": [
    "distance_matrix = 1 - kappa_matrix\n",
    "np.fill_diagonal(distance_matrix, 0)\n",
    "\n",
    "# Hierarchical clustering with average linkage\n",
    "Z = linkage(squareform(distance_matrix), method='average')\n",
    "\n",
    "# Cut at 0.75 distance threshold (Kappa > 0.25)\n",
    "threshold = 1 - 0.25\n",
    "clusters = fcluster(Z, t=threshold, criterion='distance')\n",
    "\n",
    "term_gene['cluster'] = clusters"
   ]
  },
  {
   "cell_type": "code",
   "execution_count": null,
   "id": "86d1afd7-3776-4676-bcec-2e8ee1070246",
   "metadata": {},
   "outputs": [],
   "source": [
    "term_gene.to_excel(\"Clustered_Pathways_kappa0.25.xlsx\", index=False)"
   ]
  }
 ],
 "metadata": {
  "kernelspec": {
   "display_name": "Python [conda env:base] *",
   "language": "python",
   "name": "conda-base-py"
  },
  "language_info": {
   "codemirror_mode": {
    "name": "ipython",
    "version": 3
   },
   "file_extension": ".py",
   "mimetype": "text/x-python",
   "name": "python",
   "nbconvert_exporter": "python",
   "pygments_lexer": "ipython3",
   "version": "3.12.7"
  }
 },
 "nbformat": 4,
 "nbformat_minor": 5
}
