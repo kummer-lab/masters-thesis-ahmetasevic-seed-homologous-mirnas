{
 "cells": [
  {
   "cell_type": "code",
   "execution_count": 11,
   "id": "4ea8629c-dd61-4ab6-8148-b7d17c8f5dff",
   "metadata": {},
   "outputs": [],
   "source": [
    "import pandas as pd\n",
    "import numpy as np\n",
    "import zstandard as zstd\n",
    "from collections import defaultdict"
   ]
  },
  {
   "cell_type": "code",
   "execution_count": 5,
   "id": "2c6b33a8-8212-47ca-9e26-375c9c52efe2",
   "metadata": {},
   "outputs": [
    {
     "name": "stdout",
     "output_type": "stream",
     "text": [
      "DIANA-microT-CDS: 9507.15 ± 2498.52 predictions per miRNA\n"
     ]
    }
   ],
   "source": [
    "# DIANA-microT-CDS\n",
    "diana_file = \"interactions_human.microT.mirbase.txt\"\n",
    "diana_df = pd.read_csv(diana_file, sep=\"\\t\")\n",
    "diana_counts = diana_df.groupby(\"mirna\").size()\n",
    "diana_mean = diana_counts.mean()\n",
    "diana_sd = diana_counts.std(ddof=1)\n",
    "print(f\"DIANA-microT-CDS: {diana_mean:.2f} ± {diana_sd:.2f} predictions per miRNA\")"
   ]
  },
  {
   "cell_type": "code",
   "execution_count": 7,
   "id": "b2f21434-6d2d-414c-908a-c8162b9502f1",
   "metadata": {},
   "outputs": [
    {
     "name": "stdout",
     "output_type": "stream",
     "text": [
      "MirTarget (miRDB): 1270.99 ± 1013.50 predictions per miRNA\n"
     ]
    }
   ],
   "source": [
    "# MirTarget (miRDB)\n",
    "mirtarget_file = \"MirTarget all human interactions.txt\"\n",
    "mirtarget_df = pd.read_csv(mirtarget_file, sep=\"\\t\")\n",
    "mirtarget_counts = mirtarget_df.groupby(\"miRNA\").size()\n",
    "mirtarget_mean = mirtarget_counts.mean()\n",
    "mirtarget_sd = mirtarget_counts.std(ddof=1)\n",
    "print(f\"MirTarget (miRDB): {mirtarget_mean:.2f} ± {mirtarget_sd:.2f} predictions per miRNA\")"
   ]
  },
  {
   "cell_type": "code",
   "execution_count": 9,
   "id": "191f9285-f7aa-475f-8e73-d254d852b54e",
   "metadata": {},
   "outputs": [
    {
     "name": "stdout",
     "output_type": "stream",
     "text": [
      "miRmap: 19255.08 ± 6787.20 predictions per miRNA\n"
     ]
    }
   ],
   "source": [
    "# miRmap\n",
    "mirmap_file = \"mirmap_202203_homsap_targets_1to1_pt.csv.zst\"\n",
    "with open(mirmap_file, 'rb') as f:\n",
    "    dctx = zstd.ZstdDecompressor()\n",
    "    with dctx.stream_reader(f) as reader:\n",
    "        mirmap_df = pd.read_csv(reader)\n",
    "\n",
    "mirmap_counts = mirmap_df.groupby(\"mirna_id\").size()\n",
    "mirmap_mean = mirmap_counts.mean()\n",
    "mirmap_sd = mirmap_counts.std(ddof=1)\n",
    "print(f\"miRmap: {mirmap_mean:.2f} ± {mirmap_sd:.2f} predictions per miRNA\")"
   ]
  }
 ],
 "metadata": {
  "kernelspec": {
   "display_name": "Python [conda env:base] *",
   "language": "python",
   "name": "conda-base-py"
  },
  "language_info": {
   "codemirror_mode": {
    "name": "ipython",
    "version": 3
   },
   "file_extension": ".py",
   "mimetype": "text/x-python",
   "name": "python",
   "nbconvert_exporter": "python",
   "pygments_lexer": "ipython3",
   "version": "3.12.7"
  }
 },
 "nbformat": 4,
 "nbformat_minor": 5
}
