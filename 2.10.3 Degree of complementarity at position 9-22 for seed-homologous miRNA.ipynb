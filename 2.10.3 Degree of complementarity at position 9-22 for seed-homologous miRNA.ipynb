{
 "cells": [
  {
   "cell_type": "code",
   "execution_count": 1,
   "id": "d48fdee1-3e9a-4f6a-9f93-02c92dc917a4",
   "metadata": {},
   "outputs": [],
   "source": [
    "import pandas as pd\n",
    "import seaborn as sns\n",
    "import matplotlib.pyplot as plt\n",
    "import statsmodels.formula.api as smf\n",
    "from scipy.stats import pearsonr"
   ]
  },
  {
   "cell_type": "code",
   "execution_count": 3,
   "id": "419352b0-8b48-48c2-aee4-56977121a0b5",
   "metadata": {},
   "outputs": [],
   "source": [
    "df = pd.read_csv(\"Pairwise Cluster Comparisons - FINAL.txt\", sep=\"\\t\")"
   ]
  },
  {
   "cell_type": "code",
   "execution_count": 19,
   "id": "48757c0c-21c0-4c22-a042-9e49fd42737a",
   "metadata": {},
   "outputs": [
    {
     "name": "stdout",
     "output_type": "stream",
     "text": [
      "Minimum sequence length: 16\n",
      "Maximum sequence length: 28\n",
      "Median sequence length: 22.0\n"
     ]
    }
   ],
   "source": [
    "# Summary of miRNA length in DIANA-microT-CDS database\n",
    "df[\"Len1\"] = df[\"Sequence_miRNA1\"].str.len()\n",
    "df[\"Len2\"] = df[\"Sequence_miRNA2\"].str.len()\n",
    "\n",
    "all_lengths = pd.concat([df[\"Len1\"], df[\"Len2\"]])\n",
    "\n",
    "print(\"Minimum sequence length:\", all_lengths.min())\n",
    "print(\"Maximum sequence length:\", all_lengths.max())\n",
    "print(\"Median sequence length:\", all_lengths.median())"
   ]
  },
  {
   "cell_type": "code",
   "execution_count": 4,
   "id": "93fecff8-caeb-4985-bbb5-2011a932cf9b",
   "metadata": {},
   "outputs": [],
   "source": [
    "# Filter to HRC1_8\n",
    "fam_1_8_df = df[df[\"Family_1_8\"] == \"Yes\"].copy()"
   ]
  },
  {
   "cell_type": "code",
   "execution_count": 5,
   "id": "23c78a96-aa02-4eea-af50-b366a94efe67",
   "metadata": {},
   "outputs": [],
   "source": [
    "def count_outside_seed_matches(seq1, seq2):\n",
    "    return sum(1 for a, b in zip(seq1[8:22], seq2[8:22]) if a == b)"
   ]
  },
  {
   "cell_type": "code",
   "execution_count": 6,
   "id": "68e2475e-ae92-41d4-9e76-a52afd483801",
   "metadata": {},
   "outputs": [
    {
     "data": {
      "text/html": [
       "<div>\n",
       "<style scoped>\n",
       "    .dataframe tbody tr th:only-of-type {\n",
       "        vertical-align: middle;\n",
       "    }\n",
       "\n",
       "    .dataframe tbody tr th {\n",
       "        vertical-align: top;\n",
       "    }\n",
       "\n",
       "    .dataframe thead th {\n",
       "        text-align: right;\n",
       "    }\n",
       "</style>\n",
       "<table border=\"1\" class=\"dataframe\">\n",
       "  <thead>\n",
       "    <tr style=\"text-align: right;\">\n",
       "      <th></th>\n",
       "      <th>Matching Bases Outside 1-8</th>\n",
       "      <th>Pair Count</th>\n",
       "    </tr>\n",
       "  </thead>\n",
       "  <tbody>\n",
       "    <tr>\n",
       "      <th>0</th>\n",
       "      <td>0</td>\n",
       "      <td>3</td>\n",
       "    </tr>\n",
       "    <tr>\n",
       "      <th>1</th>\n",
       "      <td>1</td>\n",
       "      <td>11</td>\n",
       "    </tr>\n",
       "    <tr>\n",
       "      <th>2</th>\n",
       "      <td>2</td>\n",
       "      <td>23</td>\n",
       "    </tr>\n",
       "    <tr>\n",
       "      <th>3</th>\n",
       "      <td>3</td>\n",
       "      <td>37</td>\n",
       "    </tr>\n",
       "    <tr>\n",
       "      <th>4</th>\n",
       "      <td>4</td>\n",
       "      <td>35</td>\n",
       "    </tr>\n",
       "    <tr>\n",
       "      <th>5</th>\n",
       "      <td>5</td>\n",
       "      <td>30</td>\n",
       "    </tr>\n",
       "    <tr>\n",
       "      <th>6</th>\n",
       "      <td>6</td>\n",
       "      <td>23</td>\n",
       "    </tr>\n",
       "    <tr>\n",
       "      <th>7</th>\n",
       "      <td>7</td>\n",
       "      <td>31</td>\n",
       "    </tr>\n",
       "    <tr>\n",
       "      <th>8</th>\n",
       "      <td>8</td>\n",
       "      <td>41</td>\n",
       "    </tr>\n",
       "    <tr>\n",
       "      <th>9</th>\n",
       "      <td>9</td>\n",
       "      <td>55</td>\n",
       "    </tr>\n",
       "    <tr>\n",
       "      <th>10</th>\n",
       "      <td>10</td>\n",
       "      <td>111</td>\n",
       "    </tr>\n",
       "    <tr>\n",
       "      <th>11</th>\n",
       "      <td>11</td>\n",
       "      <td>105</td>\n",
       "    </tr>\n",
       "    <tr>\n",
       "      <th>12</th>\n",
       "      <td>12</td>\n",
       "      <td>94</td>\n",
       "    </tr>\n",
       "    <tr>\n",
       "      <th>13</th>\n",
       "      <td>13</td>\n",
       "      <td>69</td>\n",
       "    </tr>\n",
       "    <tr>\n",
       "      <th>14</th>\n",
       "      <td>14</td>\n",
       "      <td>35</td>\n",
       "    </tr>\n",
       "  </tbody>\n",
       "</table>\n",
       "</div>"
      ],
      "text/plain": [
       "    Matching Bases Outside 1-8  Pair Count\n",
       "0                            0           3\n",
       "1                            1          11\n",
       "2                            2          23\n",
       "3                            3          37\n",
       "4                            4          35\n",
       "5                            5          30\n",
       "6                            6          23\n",
       "7                            7          31\n",
       "8                            8          41\n",
       "9                            9          55\n",
       "10                          10         111\n",
       "11                          11         105\n",
       "12                          12          94\n",
       "13                          13          69\n",
       "14                          14          35"
      ]
     },
     "execution_count": 6,
     "metadata": {},
     "output_type": "execute_result"
    }
   ],
   "source": [
    "fam_1_8_df[\"Outside_Seed_Match_Count\"] = fam_1_8_df.apply(\n",
    "    lambda row: count_outside_seed_matches(row[\"Sequence_miRNA1\"], row[\"Sequence_miRNA2\"]), axis=1\n",
    ")\n",
    "\n",
    "match_counts = fam_1_8_df[\"Outside_Seed_Match_Count\"].value_counts().sort_index()\n",
    "\n",
    "full_counts = pd.Series(0, index=range(0, 15))\n",
    "full_counts.update(match_counts)\n",
    "\n",
    "result_df = full_counts.reset_index()\n",
    "result_df.columns = [\"Matching Bases Outside 1-8\", \"Pair Count\"]\n",
    "\n",
    "result_df #Number of matching bases for position 9-22; number of miRNA pairs with the corresponding match number"
   ]
  },
  {
   "cell_type": "code",
   "execution_count": 7,
   "id": "d3c60ad6-b3c9-4617-b23d-dff1f5312b1e",
   "metadata": {},
   "outputs": [
    {
     "name": "stdout",
     "output_type": "stream",
     "text": [
      "                            OLS Regression Results                            \n",
      "==============================================================================\n",
      "Dep. Variable:                Jaccard   R-squared:                       0.386\n",
      "Model:                            OLS   Adj. R-squared:                  0.385\n",
      "Method:                 Least Squares   F-statistic:                     440.1\n",
      "Date:                Fri, 20 Jun 2025   Prob (F-statistic):           3.27e-76\n",
      "Time:                        14:06:07   Log-Likelihood:                 651.54\n",
      "No. Observations:                 703   AIC:                            -1299.\n",
      "Df Residuals:                     701   BIC:                            -1290.\n",
      "Df Model:                           1                                         \n",
      "Covariance Type:            nonrobust                                         \n",
      "============================================================================================\n",
      "                               coef    std err          t      P>|t|      [0.025      0.975]\n",
      "--------------------------------------------------------------------------------------------\n",
      "Intercept                    0.6675      0.010     65.620      0.000       0.648       0.687\n",
      "Outside_Seed_Match_Count     0.0219      0.001     20.979      0.000       0.020       0.024\n",
      "==============================================================================\n",
      "Omnibus:                      263.228   Durbin-Watson:                   1.799\n",
      "Prob(Omnibus):                  0.000   Jarque-Bera (JB):             1023.200\n",
      "Skew:                          -1.734   Prob(JB):                    6.53e-223\n",
      "Kurtosis:                       7.785   Cond. No.                         27.7\n",
      "==============================================================================\n",
      "\n",
      "Notes:\n",
      "[1] Standard Errors assume that the covariance matrix of the errors is correctly specified.\n"
     ]
    }
   ],
   "source": [
    "regression_data = fam_1_8_df.dropna(subset=[\"Outside_Seed_Match_Count\", \"Jaccard\"]).copy()\n",
    "model = smf.ols(\"Jaccard ~ Outside_Seed_Match_Count\", data=regression_data).fit()\n",
    "\n",
    "# Output regression summary\n",
    "print(model.summary())"
   ]
  },
  {
   "cell_type": "code",
   "execution_count": 13,
   "id": "be0aedf2-d4e4-4b25-92fe-4ffa2e761211",
   "metadata": {},
   "outputs": [],
   "source": [
    "fam_1_8_df[\"Family\"] = \"HRC1_8\" #change Family to Homology Region Class\n",
    "plot_df = fam_1_8_df[[\"Family\", \"Outside_Seed_Match_Count\", \"Jaccard\"]].dropna()"
   ]
  },
  {
   "cell_type": "code",
   "execution_count": 15,
   "id": "42f210cc-21bb-4561-98f4-5a0bb7e1a05f",
   "metadata": {},
   "outputs": [
    {
     "name": "stdin",
     "output_type": "stream",
     "text": [
      "Save plot as PNG? (yes/no):  no\n"
     ]
    },
    {
     "data": {
      "image/png": "[encoded data removed]",
      "text/plain": [
       "<Figure size 600x500 with 1 Axes>"
      ]
     },
     "metadata": {},
     "output_type": "display_data"
    }
   ],
   "source": [
    "sns.set(style=\"whitegrid\", context=\"talk\")\n",
    "\n",
    "# seaborn.lmplot uses OLS linear model by default\n",
    "g = sns.lmplot(\n",
    "    data=plot_df,\n",
    "    x=\"Outside_Seed_Match_Count\",\n",
    "    y=\"Jaccard\",\n",
    "    height=5,\n",
    "    aspect=1.2,\n",
    "    scatter_kws={\"alpha\": 0.1, \"s\": 15, \"color\": \"#66c2a5\"},  \n",
    "    line_kws={\"color\": \"black\", \"linewidth\": 1.5},            \n",
    "    ci=None\n",
    ")\n",
    "\n",
    "g.set_titles(col_template=\"{col_name}\")\n",
    "g.set_axis_labels(\"Number of Matching Bases Outside Seed (9–22)\", \"Jaccard Index\")\n",
    "g.set(ylim=(0, 1), xlim=(-0.5, 14.5))\n",
    "for ax in g.axes.flatten():\n",
    "    ax.set_xticks(range(0, 15, 2))\n",
    "    ax.tick_params(axis='x', labelsize=16)\n",
    "    ax.tick_params(axis='y', labelsize=16)\n",
    "    ax.set_xlabel(\"Pos 9-22 Base Matches (n)\", fontsize=17, fontweight=\"bold\")\n",
    "    ax.set_ylabel(\"Jaccard Index\", fontsize=17, fontweight=\"bold\")\n",
    "\n",
    "plt.tight_layout()\n",
    "\n",
    "save = input(\"Save plot as PNG? (yes/no): \").strip().lower()\n",
    "if save == 'yes':\n",
    "    plt.savefig(\"jaccard_scatterplot_F1_8_outside_seed.png\", dpi=300, bbox_inches='tight')\n",
    "    print(\"Plot saved as jaccard_scatterplot_F1_8_outside_seed.png\")\n",
    "\n",
    "plt.show()"
   ]
  },
  {
   "cell_type": "code",
   "execution_count": 17,
   "id": "505ad492-b670-428a-a826-144b5abcbec6",
   "metadata": {},
   "outputs": [
    {
     "name": "stdout",
     "output_type": "stream",
     "text": [
      "Pearson r: 0.621\n",
      "p-value: 3.27e-76\n"
     ]
    }
   ],
   "source": [
    "regression_data = fam_1_8_df.dropna(subset=[\"Outside_Seed_Match_Count\", \"Jaccard\"]).copy()\n",
    "\n",
    "# Compute Pearson correlation coefficient and p-value\n",
    "r, p_value = pearsonr(regression_data[\"Outside_Seed_Match_Count\"], regression_data[\"Jaccard\"])\n",
    "\n",
    "print(f\"Pearson r: {r:.3f}\")\n",
    "print(f\"p-value: {p_value:.2e}\")"
   ]
  },
  {
   "cell_type": "code",
   "execution_count": null,
   "id": "1fa87b61-89f1-404a-8dd9-91fca5f9458b",
   "metadata": {},
   "outputs": [],
   "source": []
  }
 ],
 "metadata": {
  "kernelspec": {
   "display_name": "Python [conda env:base] *",
   "language": "python",
   "name": "conda-base-py"
  },
  "language_info": {
   "codemirror_mode": {
    "name": "ipython",
    "version": 3
   },
   "file_extension": ".py",
   "mimetype": "text/x-python",
   "name": "python",
   "nbconvert_exporter": "python",
   "pygments_lexer": "ipython3",
   "version": "3.12.7"
  }
 },
 "nbformat": 4,
 "nbformat_minor": 5
}
