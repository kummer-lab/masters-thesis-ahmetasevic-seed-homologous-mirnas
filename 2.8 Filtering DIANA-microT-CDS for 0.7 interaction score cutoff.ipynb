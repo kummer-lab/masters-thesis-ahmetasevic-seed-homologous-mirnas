{
 "cells": [
  {
   "cell_type": "code",
   "execution_count": 1,
   "id": "9d4a8f17-49a8-4276-a0eb-e7ddcba860ef",
   "metadata": {},
   "outputs": [],
   "source": [
    "import pandas as pd "
   ]
  },
  {
   "cell_type": "code",
   "execution_count": 3,
   "id": "0d743693-f0a6-46c0-b797-b28dcd9fef6b",
   "metadata": {},
   "outputs": [
    {
     "name": "stdout",
     "output_type": "stream",
     "text": [
      "              mirna  ensembl_gene_id  interaction_score\n",
      "4   hsa-let-7a-2-3p  ENSG00000170485           0.852342\n",
      "25  hsa-let-7a-2-3p  ENSG00000126749           0.794516\n",
      "29  hsa-let-7a-2-3p  ENSG00000166573           0.768530\n",
      "42  hsa-let-7a-2-3p  ENSG00000168724           0.726315\n",
      "44  hsa-let-7a-2-3p  ENSG00000111252           0.907612\n"
     ]
    }
   ],
   "source": [
    "df = pd.read_csv(\"interactions_human.microT.mirbase.txt\", sep=\"\\t\")\n",
    "filtered_df = df[df[\"interaction_score\"] >= 0.7]"
   ]
  },
  {
   "cell_type": "code",
   "execution_count": 5,
   "id": "a740d1a7-1fd6-461e-a5b5-e73beeac5570",
   "metadata": {},
   "outputs": [],
   "source": [
    "filtered_df.to_csv(\"DIANA-microT-CDS - human interactions over 0.7.txt\", sep=\"\\t\", index=False)"
   ]
  },
  {
   "cell_type": "code",
   "execution_count": 7,
   "id": "109efd31-2631-45c0-9de4-548420d90ce8",
   "metadata": {},
   "outputs": [
    {
     "name": "stdout",
     "output_type": "stream",
     "text": [
      "Number of unique miRNAs: 2654\n"
     ]
    }
   ],
   "source": [
    "unique_mirnas = filtered_df[\"mirna\"].nunique()\n",
    "print(f\"Number of unique miRNAs: {unique_mirnas}\")"
   ]
  },
  {
   "cell_type": "code",
   "execution_count": 9,
   "id": "d521a488-25f3-4680-ba78-3b3d27097235",
   "metadata": {},
   "outputs": [
    {
     "name": "stdout",
     "output_type": "stream",
     "text": [
      "Number of unique Ensembl Gene IDs: 19152\n"
     ]
    }
   ],
   "source": [
    "unique_ensembl = filtered_df[\"ensembl_gene_id\"].nunique()\n",
    "print(f\"Number of unique Ensembl Gene IDs: {unique_ensembl}\")"
   ]
  },
  {
   "cell_type": "code",
   "execution_count": null,
   "id": "67ed5fc6-9d96-4b99-b7af-82f1721144a7",
   "metadata": {},
   "outputs": [],
   "source": []
  }
 ],
 "metadata": {
  "kernelspec": {
   "display_name": "Python [conda env:base] *",
   "language": "python",
   "name": "conda-base-py"
  },
  "language_info": {
   "codemirror_mode": {
    "name": "ipython",
    "version": 3
   },
   "file_extension": ".py",
   "mimetype": "text/x-python",
   "name": "python",
   "nbconvert_exporter": "python",
   "pygments_lexer": "ipython3",
   "version": "3.12.7"
  }
 },
 "nbformat": 4,
 "nbformat_minor": 5
}
